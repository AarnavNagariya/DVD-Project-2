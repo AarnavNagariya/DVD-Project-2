{
 "cells": [
  {
   "cell_type": "markdown",
   "metadata": {},
   "source": [
    "# 1. Importing Libraries"
   ]
  },
  {
   "cell_type": "code",
   "execution_count": null,
   "metadata": {},
   "outputs": [],
   "source": [
    "import pandas as pd\n",
    "import numpy as np\n",
    "import matplotlib.pyplot as plt\n",
    "import seaborn as sns"
   ]
  },
  {
   "cell_type": "markdown",
   "metadata": {},
   "source": [
    "# 2. Functions"
   ]
  },
  {
   "cell_type": "code",
   "execution_count": null,
   "metadata": {},
   "outputs": [],
   "source": [
    "def visualize_correlation_matrix(df, save_location,title):\n",
    "    correlation_matrix = df.corr()\n",
    "    plt.figure(figsize=(10, 8))\n",
    "    sns.heatmap(correlation_matrix, annot=True, cmap='coolwarm', fmt=\".2f\", linewidths=0.5)\n",
    "    plt.title(title,fontsize=20,fontweight='bold',fontstyle='italic')\n",
    "    plt.savefig(save_location)\n",
    "    plt.show()"
   ]
  },
  {
   "cell_type": "code",
   "execution_count": null,
   "metadata": {},
   "outputs": [],
   "source": [
    "def visualize_correlation_with_target(df, save_location, title, target_column):\n",
    "    correlation_matrix = df.corr()\n",
    "    correlation_with_target = correlation_matrix[target_column].drop(target_column)\n",
    "\n",
    "    # Set plot style\n",
    "    sns.set(style=\"whitegrid\")\n",
    "\n",
    "    plt.figure(figsize=(8, 6))  # Adjust size\n",
    "    plt.bar(correlation_with_target.index, correlation_with_target, color='skyblue')  # Use bar plot\n",
    "    plt.title(title,fontsize=20,fontweight='bold',fontstyle='italic')\n",
    "    plt.xlabel('Features')\n",
    "    plt.ylabel(f'Correlation with {target_column}')\n",
    "    plt.xticks(rotation=45, ha='right', fontsize=10)  # Adjust rotation and font size\n",
    "    plt.yticks(fontsize=10)  # Adjust font size for y-axis\n",
    "    plt.grid(axis='y', linestyle='--', alpha=0.7)\n",
    "    plt.tight_layout()\n",
    "\n",
    "    plt.savefig(save_location)\n",
    "    plt.show()"
   ]
  },
  {
   "cell_type": "markdown",
   "metadata": {},
   "source": [
    "# 3. Generating matrix and plot for gates according to leakages"
   ]
  },
  {
   "cell_type": "markdown",
   "metadata": {},
   "source": [
    "## 3.1 Inverter"
   ]
  },
  {
   "cell_type": "code",
   "execution_count": null,
   "metadata": {},
   "outputs": [],
   "source": [
    "file_path = 'INVERTER_leakage.csv'\n",
    "df_inverter = pd.read_csv(file_path)\n",
    "visualize_correlation_matrix(df_inverter,'Correlation_plots/45_nm_MGK_Inverter_leakage_corr_matrix.png','Correlation Matrix of Inverter for 45 nm')"
   ]
  },
  {
   "cell_type": "code",
   "execution_count": null,
   "metadata": {},
   "outputs": [],
   "source": [
    "visualize_correlation_with_target(df_inverter,'Correlation_plots/45_nm_MGK_Inverter_leakage_corr_target.png','Correlation Plot for leakages of Inverter for 45 nm','Leakage_power')"
   ]
  },
  {
   "cell_type": "markdown",
   "metadata": {},
   "source": [
    "## 3.1 AND2"
   ]
  },
  {
   "cell_type": "code",
   "execution_count": null,
   "metadata": {},
   "outputs": [],
   "source": [
    "file_path = 'AND_2_leakage.csv'\n",
    "df_and2 = pd.read_csv(file_path)\n",
    "visualize_correlation_matrix(df_and2,'Correlation_plots/45_nm_MGK_AND2_leakage_corr_matrix.png','Correlation Matrix of AND2 for 45 nm')"
   ]
  },
  {
   "cell_type": "code",
   "execution_count": null,
   "metadata": {},
   "outputs": [],
   "source": [
    "visualize_correlation_with_target(df_and2,'Correlation_plots/45_nm_MGK_AND2_leakage_corr_target.png','Correlation Plot for leakages of AND2 for 45 nm','Leakage_power')"
   ]
  },
  {
   "cell_type": "markdown",
   "metadata": {},
   "source": [
    "## 3.3 AND3"
   ]
  },
  {
   "cell_type": "code",
   "execution_count": null,
   "metadata": {},
   "outputs": [],
   "source": [
    "file_path = 'AND_3_leakage.csv'\n",
    "df_and3 = pd.read_csv(file_path)\n",
    "visualize_correlation_matrix(df_and3,'Correlation_plots/45_nm_MGK_AND3_leakage_corr_matrix.png','Correlation Matrix of AND3 for 45 nm')"
   ]
  },
  {
   "cell_type": "code",
   "execution_count": null,
   "metadata": {},
   "outputs": [],
   "source": [
    "visualize_correlation_with_target(df_and3,'Correlation_plots/45_nm_MGK_AND3_leakage_corr_target.png','Correlation Plot for leakages of AND3 for 45 nm','Leakage_power')"
   ]
  },
  {
   "cell_type": "markdown",
   "metadata": {},
   "source": [
    "## 3.3 OR2"
   ]
  },
  {
   "cell_type": "code",
   "execution_count": null,
   "metadata": {},
   "outputs": [],
   "source": [
    "file_path = 'OR_2_leakage.csv'\n",
    "df_or2= pd.read_csv(file_path)\n",
    "visualize_correlation_matrix(df_or2,'Correlation_plots/45_nm_MGK_OR2_leakage_corr_matrix.png','Correlation Matrix of OR2 for 45 nm')"
   ]
  },
  {
   "cell_type": "code",
   "execution_count": null,
   "metadata": {},
   "outputs": [],
   "source": [
    "visualize_correlation_with_target(df_or2,'Correlation_plots/45_nm_MGK_OR2_leakage_corr_target.png','Correlation Plot for leakages of OR2 for 45 nm','Leakage_power')"
   ]
  },
  {
   "cell_type": "markdown",
   "metadata": {},
   "source": [
    "## 3.5 XOR"
   ]
  },
  {
   "cell_type": "code",
   "execution_count": null,
   "metadata": {},
   "outputs": [],
   "source": [
    "file_path = 'XOR_leakage.csv'\n",
    "df_xor= pd.read_csv(file_path)\n",
    "visualize_correlation_matrix(df_xor,'Correlation_plots/45_nm_MGK_XOR_leakage_corr_matrix.png','Correlation Matrix of XOR for 45 nm')"
   ]
  },
  {
   "cell_type": "code",
   "execution_count": null,
   "metadata": {},
   "outputs": [],
   "source": [
    "visualize_correlation_with_target(df_or2,'Correlation_plots/45_nm_MGK_XOR_leakage_corr_target.png','Correlation Plot for leakages of XOR for 45 nm','Leakage_power')"
   ]
  }
 ],
 "metadata": {
  "kernelspec": {
   "display_name": "Python 3",
   "language": "python",
   "name": "python3"
  },
  "language_info": {
   "codemirror_mode": {
    "name": "ipython",
    "version": 3
   },
   "file_extension": ".py",
   "mimetype": "text/x-python",
   "name": "python",
   "nbconvert_exporter": "python",
   "pygments_lexer": "ipython3",
   "version": "3.11.3"
  }
 },
 "nbformat": 4,
 "nbformat_minor": 2
}
