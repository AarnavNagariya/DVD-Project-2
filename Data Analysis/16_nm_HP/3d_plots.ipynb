{
 "cells": [
  {
   "cell_type": "markdown",
   "metadata": {},
   "source": [
    "# 1. Importing Libraries"
   ]
  },
  {
   "cell_type": "code",
   "execution_count": null,
   "metadata": {},
   "outputs": [],
   "source": [
    "# Importing necessary libraries\n",
    "import pandas as pd\n",
    "import matplotlib.pyplot as plt\n",
    "from mpl_toolkits.mplot3d import Axes3D\n",
    "import numpy as np"
   ]
  },
  {
   "cell_type": "markdown",
   "metadata": {},
   "source": [
    "# 2. Functions"
   ]
  },
  {
   "cell_type": "code",
   "execution_count": null,
   "metadata": {},
   "outputs": [],
   "source": [
    "\n",
    "def create_3d_surface_plot(df, col1, col2, col3, fig, ax, label):\n",
    "    # Get data as NumPy arrays\n",
    "    x = np.array(df.iloc[:, col1])\n",
    "    y = np.array(df.iloc[:, col2])\n",
    "    z = np.array(df.iloc[:, col3])\n",
    "\n",
    "    # Create the meshgrid and interpolate z values\n",
    "    x_grid, y_grid = np.meshgrid(np.linspace(x.min(), x.max(), 100), np.linspace(y.min(), y.max(), 100))\n",
    "    z_grid = np.interp(x_grid.flatten(), x, z)\n",
    "    z_grid = z_grid.reshape(x_grid.shape)\n",
    "\n",
    "    # Plot the surface using 3D projection\n",
    "    surf = ax.plot_surface(x_grid, y_grid, z_grid, cmap='viridis', alpha=0.7, label=label)\n",
    "\n",
    "    # Annotate lowest and highest z points\n",
    "    idx_min_z = np.argmin(z)\n",
    "    idx_max_z = np.argmax(z)\n",
    "    ax.scatter(x[idx_min_z], y[idx_min_z], z[idx_min_z], color='red', s=100, label='Lowest Z')  # Lowest Z point\n",
    "    ax.scatter(x[idx_max_z], y[idx_max_z], z[idx_max_z], color='green', s=100, label='Highest Z')  # Highest Z point\n",
    "\n",
    "    # Set labels (assuming labels are in the dataframe columns)\n",
    "    ax.set_xlabel(df.columns[col1])\n",
    "    ax.set_ylabel(df.columns[col2])\n",
    "    ax.set_zlabel(df.columns[col3])\n",
    "\n",
    "    return surf\n"
   ]
  },
  {
   "cell_type": "code",
   "execution_count": null,
   "metadata": {},
   "outputs": [],
   "source": [
    "\n",
    "def plot_3d_surface_combos(gate_type,gate_data, param_combos, save_location=None):\n",
    "    # Create the figure\n",
    "    fig = plt.figure(figsize=(14,8))\n",
    "    fig.suptitle(f'3D Surface Plots for {gate_type} gate', fontsize=20,fontweight='bold',fontstyle='italic')  # General title\n",
    "\n",
    "    # Loop through parameter combinations and create plots\n",
    "    for i, (col1, col2, col3) in enumerate(param_combos):\n",
    "        label = f\"{gate_data.columns[col1]} vs. {gate_data.columns[col2]}\"  # Adjust label format as needed\n",
    "\n",
    "        # Add subplots in a 3x2 grid\n",
    "        ax = fig.add_subplot(2, 3, i+1, projection='3d')\n",
    "        surf = create_3d_surface_plot(gate_data, col1, col2, col3, fig, ax, label)\n",
    "\n",
    "    # Add common colorbar (optional)\n",
    "    fig.colorbar(surf, shrink=0.5, aspect=5)\n",
    "\n",
    "    # Adjust layout\n",
    "    plt.tight_layout()\n",
    "\n",
    "    # Save or show the plot\n",
    "    if save_location:\n",
    "        plt.savefig(save_location)\n",
    "    else:\n",
    "        plt.show()\n"
   ]
  },
  {
   "cell_type": "markdown",
   "metadata": {},
   "source": [
    "# 3. Generating plots to analyse delay for different gates"
   ]
  },
  {
   "cell_type": "code",
   "execution_count": null,
   "metadata": {},
   "outputs": [],
   "source": []
  },
  {
   "cell_type": "markdown",
   "metadata": {},
   "source": [
    "## 3.1 Inverter"
   ]
  },
  {
   "cell_type": "code",
   "execution_count": null,
   "metadata": {},
   "outputs": [],
   "source": [
    "file_path = 'INVERTER_delay.csv'\n",
    "df_inverter = pd.read_csv(file_path)\n",
    "df_inverter['Delay'] = df_inverter.iloc[:, -2:].mean(axis=1)\n",
    "param_combos = [  # List of parameter combinations (col1, col2, col3) for all gates\n",
    "    (1, 0, 18),  # pvdd vs. Temperature vs. Delay\n",
    "    (3, 2, 18),  # Lmin vs. Cqload vs. Delay\n",
    "    (2, 0, 18),  # Cqload vs. Temperature vs. Delay\n",
    "    (3, 0, 18),  # Lmin vs. Temperature vs. Delay\n",
    "    (2, 1, 18),  # Cqload vs. pvdd vs. Delay\n",
    "    (3, 1, 18),  # Lmin vs. pvdd vs. Delay\n",
    "]\n",
    "plot_3d_surface_combos('INVERTER (delay)',df_inverter, param_combos, '3D_Plots/16_nm_INVERTER_delay_3dplot.png')\n"
   ]
  },
  {
   "cell_type": "markdown",
   "metadata": {},
   "source": [
    "## 3.2 AND2"
   ]
  },
  {
   "cell_type": "code",
   "execution_count": null,
   "metadata": {},
   "outputs": [],
   "source": [
    "file_path = 'AND_2_delay.csv'\n",
    "df_and2 = pd.read_csv(file_path)\n",
    "df_and2['Delay'] = df_and2.iloc[:, -2:].mean(axis=1)\n",
    "param_combos = [  # List of parameter combinations (col1, col2, col3) for all gates\n",
    "    (1, 0, 19),  # pvdd vs. Temperature vs. Delay\n",
    "    (3, 2, 19),  # Lmin vs. Cqload vs. Delay\n",
    "    (2, 0, 19),  # Cqload vs. Temperature vs. Delay\n",
    "    (3, 0, 19),  # Lmin vs. Temperature vs. Delay\n",
    "    (2, 1, 19),  # Cqload vs. pvdd vs. Delay\n",
    "    (3, 1, 19),  # Lmin vs. pvdd vs. Delay\n",
    "]\n",
    "plot_3d_surface_combos('AND2 (delay)',df_and2, param_combos, '3D_Plots/16_nm_AND2_delay_3dplot.png')\n"
   ]
  },
  {
   "cell_type": "markdown",
   "metadata": {},
   "source": [
    "## 3.3 AND3"
   ]
  },
  {
   "cell_type": "code",
   "execution_count": null,
   "metadata": {},
   "outputs": [],
   "source": [
    "file_path = 'AND_3_delay.csv'\n",
    "df_and3 = pd.read_csv(file_path)\n",
    "df_and3['Delay'] = df_and3.iloc[:, -3:].mean(axis=1)\n",
    "param_combos = [  # List of parameter combinations (col1, col2, col3) for all gates\n",
    "    (1, 0, 20),  # pvdd vs. Temperature vs. Delay\n",
    "    (3, 2, 20),  # Lmin vs. Cqload vs. Delay\n",
    "    (2, 0, 20),  # Cqload vs. Temperature vs. Delay\n",
    "    (3, 0, 20),  # Lmin vs. Temperature vs. Delay\n",
    "    (2, 1, 20),  # Cqload vs. pvdd vs. Delay\n",
    "    (3, 1, 20),  # Lmin vs. pvdd vs. Delay\n",
    "]\n",
    "plot_3d_surface_combos('AND3 (delay)',df_and3, param_combos, '3D_Plots/16_nm_AND3_delay_3dplot.png')\n"
   ]
  },
  {
   "cell_type": "markdown",
   "metadata": {},
   "source": [
    "## 3.4 OR2"
   ]
  },
  {
   "cell_type": "code",
   "execution_count": null,
   "metadata": {},
   "outputs": [],
   "source": [
    "file_path = 'OR_2_delay.csv'\n",
    "df_or2 = pd.read_csv(file_path)\n",
    "df_or2['Delay'] = df_or2.iloc[:, -2:].mean(axis=1)\n",
    "param_combos = [  # List of parameter combinations (col1, col2, col3) for all gates\n",
    "    (1, 0, 19),  # pvdd vs. Temperature vs. Delay\n",
    "    (3, 2, 19),  # Lmin vs. Cqload vs. Delay\n",
    "    (2, 0, 19),  # Cqload vs. Temperature vs. Delay\n",
    "    (3, 0, 19),  # Lmin vs. Temperature vs. Delay\n",
    "    (2, 1, 19),  # Cqload vs. pvdd vs. Delay\n",
    "    (3, 1, 19),  # Lmin vs. pvdd vs. Delay\n",
    "]\n",
    "plot_3d_surface_combos('OR2 (delay)',df_and3, param_combos, '3D_Plots/16_nm_OR2_delay_3dplot.png')\n"
   ]
  },
  {
   "cell_type": "markdown",
   "metadata": {},
   "source": [
    "## 3.5 XOR"
   ]
  },
  {
   "cell_type": "code",
   "execution_count": null,
   "metadata": {},
   "outputs": [],
   "source": [
    "file_path = 'XOR_delay.csv'\n",
    "df_xor = pd.read_csv(file_path)\n",
    "df_xor['Delay'] = df_xor.iloc[:, -2:].mean(axis=1)\n",
    "\n",
    "plot_3d_surface_combos('XOR (delay)',df_xor, param_combos, '3D_Plots/16_nm_XOR_delay_3dplot.png')\n"
   ]
  },
  {
   "cell_type": "markdown",
   "metadata": {},
   "source": [
    "# 4. Generating plots to analyse leakage for different gates"
   ]
  },
  {
   "cell_type": "markdown",
   "metadata": {},
   "source": [
    "## 4.1 Inverter"
   ]
  },
  {
   "cell_type": "code",
   "execution_count": null,
   "metadata": {},
   "outputs": [],
   "source": [
    "file_path = 'INVERTER_leakage.csv'\n",
    "df_inverter = pd.read_csv(file_path)\n",
    "\n",
    "param_combos = [  # List of parameter combinations (col1, col2, col3) for all gates\n",
    "    (1, 0, 17),  # pvdd vs. Temperature vs. leakage\n",
    "    (3, 2, 17),  # Lmin vs. Cqload vs. leakage\n",
    "    (2, 0, 17),  # Cqload vs. Temperature vs. leakage\n",
    "    (3, 0, 17),  # Lmin vs. Temperature vs. leakage\n",
    "    (2, 1, 17),  # Cqload vs. pvdd vs. leakage\n",
    "    (3, 1, 17),  # Lmin vs. pvdd vs. leakage\n",
    "]\n",
    "\n",
    "plot_3d_surface_combos('INVERTER (leakage)',df_inverter, param_combos, '3D_Plots/16_nm_INVERTER_leakage_3dplot.png')\n"
   ]
  },
  {
   "cell_type": "markdown",
   "metadata": {},
   "source": [
    "## 4.2 AND2"
   ]
  },
  {
   "cell_type": "code",
   "execution_count": null,
   "metadata": {},
   "outputs": [],
   "source": [
    "file_path = 'AND_2_leakage.csv'\n",
    "df_and2 = pd.read_csv(file_path)\n",
    "\n",
    "param_combos = [  # List of parameter combinations (col1, col2, col3) for all gates\n",
    "    (4, 0, 18),  # pvdd vs. Temperature vs. leakage\n",
    "    (3, 2, 18),  # Lmin vs. Cqload vs. leakage\n",
    "    (2, 0, 18),  # Cqload vs. Temperature vs. leakage\n",
    "    (3, 0, 18),  # Lmin vs. Temperature vs. leakage\n",
    "    (2, 4, 18),  # Cqload vs. pvdd vs. leakage\n",
    "    (3, 4, 18),  # Lmin vs. pvdd vs. leakage\n",
    "]\n",
    "\n",
    "\n",
    "plot_3d_surface_combos('AND2 (leakage)',df_and2, param_combos, '3D_Plots/16_nm_AND2_leakage_3dplot.png')\n"
   ]
  },
  {
   "cell_type": "markdown",
   "metadata": {},
   "source": [
    "## 4.3 AND3"
   ]
  },
  {
   "cell_type": "code",
   "execution_count": null,
   "metadata": {},
   "outputs": [],
   "source": [
    "file_path = 'AND_3_leakage.csv'\n",
    "df_and3 = pd.read_csv(file_path)\n",
    "param_combos = [  # List of parameter combinations (col1, col2, col3) for all gates\n",
    "    (4, 0, 18),  # pvdd vs. Temperature vs. leakage\n",
    "    (3, 5, 18),  # Lmin vs. Cqload vs. leakage\n",
    "    (2, 0, 18),  # Cqload vs. Temperature vs. leakage\n",
    "    (3, 0, 18),  # Lmin vs. Temperature vs. leakage\n",
    "    (5, 4, 18),  # Cqload vs. pvdd vs. leakage\n",
    "    (3, 4, 18),  # Lmin vs. pvdd vs. leakage\n",
    "]\n",
    "\n",
    "plot_3d_surface_combos('AND3 (leakage)',df_and3, param_combos, '3D_Plots/16_nm_AND3_leakage_3dplot.png')\n"
   ]
  },
  {
   "cell_type": "markdown",
   "metadata": {},
   "source": [
    "## 4.4 OR2"
   ]
  },
  {
   "cell_type": "code",
   "execution_count": null,
   "metadata": {},
   "outputs": [],
   "source": [
    "file_path = 'OR_2_leakage.csv'\n",
    "df_or2 = pd.read_csv(file_path)\n",
    "param_combos = [  # List of parameter combinations (col1, col2, col3) for all gates\n",
    "    (4, 0, 18),  # pvdd vs. Temperature vs. leakage\n",
    "    (3, 2, 18),  # Lmin vs. Cqload vs. leakage\n",
    "    (2, 0, 18),  # Cqload vs. Temperature vs. leakage\n",
    "    (3, 0, 18),  # Lmin vs. Temperature vs. leakage\n",
    "    (2, 4, 18),  # Cqload vs. pvdd vs. leakage\n",
    "    (3, 4, 18),  # Lmin vs. pvdd vs. leakage\n",
    "]\n",
    "\n",
    "plot_3d_surface_combos('OR2 (leakage)',df_and3, param_combos, '3D_Plots/16_nm_OR2_leakage_3dplot.png')\n"
   ]
  },
  {
   "cell_type": "markdown",
   "metadata": {},
   "source": [
    "## 4.5 XOR"
   ]
  },
  {
   "cell_type": "code",
   "execution_count": null,
   "metadata": {},
   "outputs": [],
   "source": [
    "file_path = 'XOR_leakage.csv'\n",
    "df_xor = pd.read_csv(file_path)\n",
    "param_combos = [  # List of parameter combinations (col1, col2, col3) for all gates\n",
    "    (4, 0, 18),  # pvdd vs. Temperature vs. leakage\n",
    "    (3, 2, 18),  # Lmin vs. Cqload vs. leakage\n",
    "    (2, 0, 18),  # Cqload vs. Temperature vs. leakage\n",
    "    (3, 0, 18),  # Lmin vs. Temperature vs. leakage\n",
    "    (2, 4, 18),  # Cqload vs. pvdd vs. leakage\n",
    "    (3, 4, 18),  # Lmin vs. pvdd vs. leakage\n",
    "]\n",
    "\n",
    "plot_3d_surface_combos('XOR (leakage)',df_xor, param_combos, '3D_Plots/16_nm_XOR_leakage_3dplot.png')\n"
   ]
  }
 ],
 "metadata": {
  "kernelspec": {
   "display_name": "Python 3",
   "language": "python",
   "name": "python3"
  },
  "language_info": {
   "codemirror_mode": {
    "name": "ipython",
    "version": 3
   },
   "file_extension": ".py",
   "mimetype": "text/x-python",
   "name": "python",
   "nbconvert_exporter": "python",
   "pygments_lexer": "ipython3",
   "version": "3.11.3"
  }
 },
 "nbformat": 4,
 "nbformat_minor": 2
}
