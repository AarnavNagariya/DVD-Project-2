{
 "cells": [
  {
   "cell_type": "markdown",
   "metadata": {},
   "source": [
    "# 1. Functions"
   ]
  },
  {
   "cell_type": "markdown",
   "metadata": {},
   "source": [
    "## 1.1 Function to plot dual axis plots"
   ]
  },
  {
   "cell_type": "code",
   "execution_count": null,
   "metadata": {},
   "outputs": [],
   "source": [
    "import matplotlib.pyplot as plt\n",
    "\n",
    "def plot_dual_axis(ax, x, param1, xlabel='X-axis', param2=None):\n",
    "    color1 = 'tab:blue'\n",
    "    ax.set_xlabel(xlabel)\n",
    "    ax.set_ylabel('Delay', color=color1)\n",
    "    ax.plot(x, param1, 'o-', color=color1, label='Delay')\n",
    "    ax.tick_params(axis='y', labelcolor=color1)\n",
    "\n",
    "    if param2 is not None:\n",
    "        color2 = 'tab:red'\n",
    "        ax2 = ax.twinx()  # Create a second axis sharing the x-axis\n",
    "        ax2.set_ylabel('Leakage', color=color2)\n",
    "        ax2.plot(x, param2, 'o--', color=color2, label='Leakage')\n",
    "        ax2.tick_params(axis='y', labelcolor=color2)\n",
    "\n",
    "        lines1, labels1 = ax.get_legend_handles_labels()\n",
    "        lines2, labels2 = ax2.get_legend_handles_labels()\n",
    "        ax.legend(lines1 + lines2, labels1 + labels2, loc='upper left')"
   ]
  },
  {
   "cell_type": "markdown",
   "metadata": {},
   "source": [
    "## 1.2 Function to generate list of point to plot"
   ]
  },
  {
   "cell_type": "code",
   "execution_count": null,
   "metadata": {},
   "outputs": [],
   "source": [
    "def generate_points_within_range(start, end):\n",
    "    step = (end - start) / 4\n",
    "    points = [start + i * step for i in range(5)]\n",
    "    return points"
   ]
  },
  {
   "cell_type": "markdown",
   "metadata": {},
   "source": [
    "## 1.3 Function to extract corresponsing delay and leakage"
   ]
  },
  {
   "cell_type": "code",
   "execution_count": null,
   "metadata": {},
   "outputs": [],
   "source": [
    "import pandas as pd\n",
    "import numpy as np\n",
    "\n",
    "def nearest_values_average(df, numbers, column_name, target_column):\n",
    "    outputs = []\n",
    "    for number in numbers:\n",
    "        nearest_index = (df[column_name] - number).abs().idxmin()  # Find index of nearest value\n",
    "        nearest_value = df.loc[nearest_index, column_name]  # Get the nearest value\n",
    "        nearest_indices = df.index[df[column_name] == nearest_value]  # Get indices of all occurrences of nearest value\n",
    "        average_value = df.loc[nearest_indices, target_column].mean()  # Calculate average of corresponding values in target column\n",
    "        outputs.append(average_value)\n",
    "    return outputs\n"
   ]
  },
  {
   "cell_type": "markdown",
   "metadata": {},
   "source": [
    "# 2. Generating the range list for 16 nm"
   ]
  },
  {
   "cell_type": "code",
   "execution_count": null,
   "metadata": {},
   "outputs": [],
   "source": [
    "temp_range = [-55,125]\n",
    "temp_list = generate_points_within_range(temp_range[0],temp_range[1])"
   ]
  },
  {
   "cell_type": "code",
   "execution_count": null,
   "metadata": {},
   "outputs": [],
   "source": [
    "pvdd_range = [0.63,0.77]\n",
    "pvdd_list = generate_points_within_range(pvdd_range[0],pvdd_range[1])"
   ]
  },
  {
   "cell_type": "code",
   "execution_count": null,
   "metadata": {},
   "outputs": [],
   "source": [
    "cqload_range = [0.1,5]\n",
    "cqload_list = generate_points_within_range(pvdd_range[0],pvdd_range[1])"
   ]
  },
  {
   "cell_type": "code",
   "execution_count": null,
   "metadata": {},
   "outputs": [],
   "source": [
    "parameters = {\n",
    "    'toxe': 9.5e-010,\n",
    "    'toxm': 9.5e-010,\n",
    "    'toxref': 9.5e-010,\n",
    "    'toxp_par': 7e-010,\n",
    "    'xj': 5e-009,\n",
    "    'ndep': 7e+018\n",
    "}\n",
    "\n",
    "# Ranges for each parameter\n",
    "ranges = {\n",
    "    'toxe': (0.9 * parameters['toxe'], 1.1 * parameters['toxe']),\n",
    "    'toxm': (0.9 * parameters['toxm'], 1.1 * parameters['toxm']),\n",
    "    'toxref': (0.9 * parameters['toxref'], 1.1 * parameters['toxref']),\n",
    "    'toxp_par': (0.9 * parameters['toxp_par'], 1.1 * parameters['toxp_par']),\n",
    "    'xj': (0.9 * parameters['xj'], 1.1 * parameters['xj']),\n",
    "    'ndep': (0.9 * parameters['ndep'], 1.1 * parameters['ndep'])\n",
    "}\n",
    "\n",
    "# Generate points within the specified ranges for each parameter\n",
    "toxe_list = generate_points_within_range(*ranges['toxe'])\n",
    "toxm_list = generate_points_within_range(*ranges['toxm'])\n",
    "toxref_list = generate_points_within_range(*ranges['toxref'])\n",
    "toxp_par_list = generate_points_within_range(*ranges['toxp_par'])\n",
    "xj_list = generate_points_within_range(*ranges['xj'])\n",
    "ndep_list = generate_points_within_range(*ranges['ndep'])"
   ]
  },
  {
   "cell_type": "markdown",
   "metadata": {},
   "source": [
    "# 3. INVERTER"
   ]
  },
  {
   "cell_type": "markdown",
   "metadata": {},
   "source": [
    "Loading the File path"
   ]
  },
  {
   "cell_type": "code",
   "execution_count": null,
   "metadata": {},
   "outputs": [],
   "source": [
    "file_path = \"INVERTER_leakage.csv\"  # Provide the path to your CSV file\n",
    "df_inverter_leakage = pd.read_csv(file_path)"
   ]
  },
  {
   "cell_type": "code",
   "execution_count": null,
   "metadata": {},
   "outputs": [],
   "source": [
    "file_path = \"INVERTER_delay.csv\"  # Provide the path to your CSV file\n",
    "df_inverter_delay = pd.read_csv(file_path)"
   ]
  },
  {
   "cell_type": "markdown",
   "metadata": {},
   "source": [
    "## 3.1 Temparature"
   ]
  },
  {
   "cell_type": "code",
   "execution_count": null,
   "metadata": {},
   "outputs": [],
   "source": [
    "## Leakage List\n",
    "column_name = 'TEMP'  # Specify the column name\n",
    "target_column = 'Leakage_power'\n",
    "leakage_list_temp = nearest_values_average(df_inverter_leakage, temp_list, column_name,target_column)\n",
    "print(leakage_list_temp)\n",
    "\n",
    "## Delay List\n",
    "target_column = 'delay_nodea'\n",
    "delay_list_temp = nearest_values_average(df_inverter_delay, temp_list, column_name,target_column)\n",
    "print(delay_list_temp)"
   ]
  },
  {
   "cell_type": "markdown",
   "metadata": {},
   "source": [
    "## 3.2 Pvdd"
   ]
  },
  {
   "cell_type": "code",
   "execution_count": null,
   "metadata": {},
   "outputs": [],
   "source": [
    "## Leakage List\n",
    "column_name = 'pvdd'  # Specify the column name\n",
    "target_column = 'Leakage_power'\n",
    "leakage_list_pvdd = nearest_values_average(df_inverter_leakage, pvdd_list, column_name,target_column)\n",
    "print(leakage_list_pvdd)\n",
    "\n",
    "## Delay List\n",
    "target_column = 'delay_nodea'\n",
    "delay_list_pvdd = nearest_values_average(df_inverter_delay, pvdd_list, column_name,target_column)\n",
    "print(delay_list_pvdd)"
   ]
  },
  {
   "cell_type": "markdown",
   "metadata": {},
   "source": [
    "## 3.3 Cqload"
   ]
  },
  {
   "cell_type": "code",
   "execution_count": null,
   "metadata": {},
   "outputs": [],
   "source": [
    "## Leakage List\n",
    "column_name = 'Cqload'  # Specify the column name\n",
    "\n",
    "## Delay List\n",
    "target_column = 'delay_nodea'\n",
    "delay_list_cqload = nearest_values_average(df_inverter_delay, cqload_list, column_name,target_column)\n",
    "print(delay_list_cqload)"
   ]
  },
  {
   "cell_type": "markdown",
   "metadata": {},
   "source": [
    "## 3.4 toxe"
   ]
  },
  {
   "cell_type": "code",
   "execution_count": null,
   "metadata": {},
   "outputs": [],
   "source": [
    "## Leakage List\n",
    "column_name = 'toxe_n'  # Specify the column name\n",
    "target_column = 'Leakage_power'\n",
    "leakage_list_toxe = nearest_values_average(df_inverter_leakage, toxe_list, column_name,target_column)\n",
    "print(leakage_list_toxe)\n",
    "\n",
    "## Delay List\n",
    "target_column = 'delay_nodea'\n",
    "delay_list_toxe = nearest_values_average(df_inverter_delay, pvdd_list, column_name,target_column)\n",
    "print(delay_list_toxe)"
   ]
  },
  {
   "cell_type": "markdown",
   "metadata": {},
   "source": [
    "## 3.5 toxm"
   ]
  },
  {
   "cell_type": "code",
   "execution_count": null,
   "metadata": {},
   "outputs": [],
   "source": [
    "## Leakage List\n",
    "column_name = 'toxm_n'  # Specify the column name\n",
    "target_column = 'Leakage_power'\n",
    "leakage_list_toxm = nearest_values_average(df_inverter_leakage, toxm_list, column_name,target_column)\n",
    "print(leakage_list_toxm)\n",
    "\n",
    "## Delay List\n",
    "target_column = 'delay_nodea'\n",
    "delay_list_toxm = nearest_values_average(df_inverter_delay, toxm_list, column_name,target_column)\n",
    "print(delay_list_toxm)"
   ]
  },
  {
   "cell_type": "markdown",
   "metadata": {},
   "source": [
    "## 3.6 toxref"
   ]
  },
  {
   "cell_type": "code",
   "execution_count": null,
   "metadata": {},
   "outputs": [],
   "source": [
    "## Leakage List\n",
    "column_name = 'toxref_n'  # Specify the column name\n",
    "target_column = 'Leakage_power'\n",
    "leakage_list_toxref = nearest_values_average(df_inverter_leakage, toxref_list, column_name,target_column)\n",
    "print(leakage_list_toxref)\n",
    "\n",
    "## Delay List\n",
    "target_column = 'delay_nodea'\n",
    "delay_list_toxref = nearest_values_average(df_inverter_delay, toxref_list, column_name,target_column)\n",
    "print(delay_list_toxref)"
   ]
  },
  {
   "cell_type": "markdown",
   "metadata": {},
   "source": [
    "## 3.7 toxp"
   ]
  },
  {
   "cell_type": "code",
   "execution_count": null,
   "metadata": {},
   "outputs": [],
   "source": [
    "## Leakage List\n",
    "column_name = 'toxp_n'  # Specify the column name\n",
    "target_column = 'Leakage_power'\n",
    "leakage_list_toxp = nearest_values_average(df_inverter_leakage, toxp_par_list, column_name,target_column)\n",
    "print(leakage_list_toxp)\n",
    "\n",
    "## Delay List\n",
    "target_column = 'delay_nodea'\n",
    "delay_list_toxp = nearest_values_average(df_inverter_delay, toxp_par_list, column_name,target_column)\n",
    "print(delay_list_toxp)"
   ]
  },
  {
   "cell_type": "markdown",
   "metadata": {},
   "source": [
    "## 3.8 xj"
   ]
  },
  {
   "cell_type": "code",
   "execution_count": null,
   "metadata": {},
   "outputs": [],
   "source": [
    "## Leakage List\n",
    "column_name = 'xj_n'  # Specify the column name\n",
    "target_column = 'Leakage_power'\n",
    "leakage_list_xj = nearest_values_average(df_inverter_leakage, xj_list, column_name,target_column)\n",
    "print(leakage_list_xj)\n",
    "\n",
    "## Delay List\n",
    "target_column = 'delay_nodea'\n",
    "delay_list_xj = nearest_values_average(df_inverter_delay, xj_list, column_name,target_column)\n",
    "print(delay_list_xj)"
   ]
  },
  {
   "cell_type": "markdown",
   "metadata": {},
   "source": [
    "## 3.9 ndep"
   ]
  },
  {
   "cell_type": "code",
   "execution_count": null,
   "metadata": {},
   "outputs": [],
   "source": [
    "## Leakage List\n",
    "column_name = 'ndep_n'  # Specify the column name\n",
    "target_column = 'Leakage_power'\n",
    "leakage_list_ndep = nearest_values_average(df_inverter_leakage, ndep_list, column_name,target_column)\n",
    "print(leakage_list_ndep)\n",
    "\n",
    "## Delay List\n",
    "target_column = 'delay_nodea'\n",
    "delay_list_ndep = nearest_values_average(df_inverter_delay, ndep_list, column_name,target_column)\n",
    "print(delay_list_ndep)"
   ]
  },
  {
   "cell_type": "markdown",
   "metadata": {},
   "source": [
    "## 3.10 Plotting all plots"
   ]
  },
  {
   "cell_type": "code",
   "execution_count": null,
   "metadata": {},
   "outputs": [],
   "source": [
    "# Create a 3x3 grid of subplots\n",
    "fig, axs = plt.subplots(3, 3, figsize=(15, 15))\n",
    "\n",
    "# Data for each subplot\n",
    "data1 = [\n",
    "    (axs[0, 0], toxe_list, delay_list_toxe, 'toxe', leakage_list_toxe),\n",
    "    (axs[0, 1], toxm_list, delay_list_toxm, 'toxm', leakage_list_toxm),\n",
    "    (axs[0, 2], toxref_list, delay_list_toxref, 'toxref', leakage_list_toxref),\n",
    "    (axs[1, 0], toxp_par_list, delay_list_toxp, 'toxp', leakage_list_toxp),\n",
    "    (axs[1, 1], xj_list, delay_list_xj, 'xj', leakage_list_xj),\n",
    "    (axs[1, 2], ndep_list, delay_list_ndep, 'ndep', leakage_list_ndep),\n",
    "    (axs[2, 0], temp_list, delay_list_temp, 'TEMP', leakage_list_temp),\n",
    "    (axs[2, 1], temp_list, delay_list_pvdd, 'Pvdd', leakage_list_pvdd),\n",
    "    (axs[2, 2], cqload_list, delay_list_cqload, 'Cqload', None)\n",
    "]\n",
    "\n",
    "for ax, x, param1, xlabel, param2 in data1:\n",
    "    plot_dual_axis(ax, x, param1, xlabel, param2)\n",
    "\n",
    "plt.tight_layout()\n",
    "fig.suptitle('Variation of Delay and Leakage for Inverter for various technology parameters', fontsize=20,fontweight='bold',fontstyle='italic')\n",
    "plt.subplots_adjust(top=0.92)\n",
    "plt.savefig('Dual_axis_plots/16_nm_HP_Inverter.png')\n",
    "plt.show()\n"
   ]
  },
  {
   "cell_type": "markdown",
   "metadata": {},
   "source": [
    "# 4. AND2"
   ]
  },
  {
   "cell_type": "markdown",
   "metadata": {},
   "source": [
    "Loading the File path"
   ]
  },
  {
   "cell_type": "code",
   "execution_count": null,
   "metadata": {},
   "outputs": [],
   "source": [
    "file_path = \"AND_2_leakage.csv\"  # Provide the path to your CSV file\n",
    "df_and2_leakage = pd.read_csv(file_path)"
   ]
  },
  {
   "cell_type": "code",
   "execution_count": null,
   "metadata": {},
   "outputs": [],
   "source": [
    "file_path = \"AND_2_delay.csv\"  # Provide the path to your CSV file\n",
    "df_and2_delay = pd.read_csv(file_path)"
   ]
  },
  {
   "cell_type": "markdown",
   "metadata": {},
   "source": [
    "## 4.1 Temparature"
   ]
  },
  {
   "cell_type": "code",
   "execution_count": null,
   "metadata": {},
   "outputs": [],
   "source": [
    "## Leakage List\n",
    "column_name = 'TEMP'  # Specify the column name\n",
    "target_column = 'Leakage_power'\n",
    "leakage_list_temp = nearest_values_average(df_and2_leakage, temp_list, column_name,target_column)\n",
    "print(leakage_list_temp)\n",
    "\n",
    "## Delay List\n",
    "target_column = 'delay_nodea'\n",
    "delay_list_temp = nearest_values_average(df_and2_delay, temp_list, column_name,target_column)\n",
    "print(delay_list_temp)"
   ]
  },
  {
   "cell_type": "markdown",
   "metadata": {},
   "source": [
    "## 4.2 Pvdd"
   ]
  },
  {
   "cell_type": "code",
   "execution_count": null,
   "metadata": {},
   "outputs": [],
   "source": [
    "## Leakage List\n",
    "column_name = 'pvdd'  # Specify the column name\n",
    "target_column = 'Leakage_power'\n",
    "leakage_list_pvdd = nearest_values_average(df_and2_leakage, pvdd_list, column_name,target_column)\n",
    "print(leakage_list_pvdd)\n",
    "\n",
    "## Delay List\n",
    "target_column = 'delay_nodea'\n",
    "delay_list_pvdd = nearest_values_average(df_and2_delay, pvdd_list, column_name,target_column)\n",
    "print(delay_list_pvdd)"
   ]
  },
  {
   "cell_type": "markdown",
   "metadata": {},
   "source": [
    "## 4.3 Cqload"
   ]
  },
  {
   "cell_type": "code",
   "execution_count": null,
   "metadata": {},
   "outputs": [],
   "source": [
    "## Leakage List\n",
    "column_name = 'Cqload'  # Specify the column name\n",
    "\n",
    "## Delay List\n",
    "target_column = 'delay_nodea'\n",
    "delay_list_cqload = nearest_values_average(df_and2_delay, cqload_list, column_name,target_column)\n",
    "print(delay_list_cqload)"
   ]
  },
  {
   "cell_type": "markdown",
   "metadata": {},
   "source": [
    "## 4.4 toxe"
   ]
  },
  {
   "cell_type": "code",
   "execution_count": null,
   "metadata": {},
   "outputs": [],
   "source": [
    "## Leakage List\n",
    "column_name = 'toxe_n'  # Specify the column name\n",
    "target_column = 'Leakage_power'\n",
    "leakage_list_toxe = nearest_values_average(df_and2_leakage, toxe_list, column_name,target_column)\n",
    "print(leakage_list_toxe)\n",
    "\n",
    "## Delay List\n",
    "target_column = 'delay_nodea'\n",
    "delay_list_toxe = nearest_values_average(df_and2_delay, pvdd_list, column_name,target_column)\n",
    "print(delay_list_toxe)"
   ]
  },
  {
   "cell_type": "markdown",
   "metadata": {},
   "source": [
    "## 4.5 toxm"
   ]
  },
  {
   "cell_type": "code",
   "execution_count": null,
   "metadata": {},
   "outputs": [],
   "source": [
    "## Leakage List\n",
    "column_name = 'toxm_n'  # Specify the column name\n",
    "target_column = 'Leakage_power'\n",
    "leakage_list_toxm = nearest_values_average(df_and2_leakage, toxm_list, column_name,target_column)\n",
    "print(leakage_list_toxm)\n",
    "\n",
    "## Delay List\n",
    "target_column = 'delay_nodea'\n",
    "delay_list_toxm = nearest_values_average(df_and2_delay, toxm_list, column_name,target_column)\n",
    "print(delay_list_toxm)"
   ]
  },
  {
   "cell_type": "markdown",
   "metadata": {},
   "source": [
    "## 4.6 toxref"
   ]
  },
  {
   "cell_type": "code",
   "execution_count": null,
   "metadata": {},
   "outputs": [],
   "source": [
    "## Leakage List\n",
    "column_name = 'toxref_n'  # Specify the column name\n",
    "target_column = 'Leakage_power'\n",
    "leakage_list_toxref = nearest_values_average(df_and2_leakage, toxref_list, column_name,target_column)\n",
    "print(leakage_list_toxref)\n",
    "\n",
    "## Delay List\n",
    "target_column = 'delay_nodea'\n",
    "delay_list_toxref = nearest_values_average(df_and2_delay, toxref_list, column_name,target_column)\n",
    "print(delay_list_toxref)"
   ]
  },
  {
   "cell_type": "markdown",
   "metadata": {},
   "source": [
    "## 4.7 toxp"
   ]
  },
  {
   "cell_type": "code",
   "execution_count": null,
   "metadata": {},
   "outputs": [],
   "source": [
    "## Leakage List\n",
    "column_name = 'toxp_n'  # Specify the column name\n",
    "target_column = 'Leakage_power'\n",
    "leakage_list_toxp = nearest_values_average(df_and2_leakage, toxp_par_list, column_name,target_column)\n",
    "print(leakage_list_toxp)\n",
    "\n",
    "## Delay List\n",
    "target_column = 'delay_nodea'\n",
    "delay_list_toxp = nearest_values_average(df_and2_delay, toxp_par_list, column_name,target_column)\n",
    "print(delay_list_toxp)"
   ]
  },
  {
   "cell_type": "markdown",
   "metadata": {},
   "source": [
    "## 4.8 xj"
   ]
  },
  {
   "cell_type": "code",
   "execution_count": null,
   "metadata": {},
   "outputs": [],
   "source": [
    "## Leakage List\n",
    "column_name = 'xj_n'  # Specify the column name\n",
    "target_column = 'Leakage_power'\n",
    "leakage_list_xj = nearest_values_average(df_and2_leakage, xj_list, column_name,target_column)\n",
    "print(leakage_list_xj)\n",
    "\n",
    "## Delay List\n",
    "target_column = 'delay_nodea'\n",
    "delay_list_xj = nearest_values_average(df_and2_delay, xj_list, column_name,target_column)\n",
    "print(delay_list_xj)"
   ]
  },
  {
   "cell_type": "markdown",
   "metadata": {},
   "source": [
    "## 4.9 ndep"
   ]
  },
  {
   "cell_type": "code",
   "execution_count": null,
   "metadata": {},
   "outputs": [],
   "source": [
    "## Leakage List\n",
    "column_name = 'ndep_n'  # Specify the column name\n",
    "target_column = 'Leakage_power'\n",
    "leakage_list_ndep = nearest_values_average(df_and2_leakage, ndep_list, column_name,target_column)\n",
    "print(leakage_list_ndep)\n",
    "\n",
    "## Delay List\n",
    "target_column = 'delay_nodea'\n",
    "delay_list_ndep = nearest_values_average(df_and2_delay, ndep_list, column_name,target_column)\n",
    "print(delay_list_ndep)"
   ]
  },
  {
   "cell_type": "markdown",
   "metadata": {},
   "source": [
    "## 4.10 Plotting all plots"
   ]
  },
  {
   "cell_type": "code",
   "execution_count": null,
   "metadata": {},
   "outputs": [],
   "source": [
    "# Create a 3x3 grid of subplots\n",
    "fig, axs = plt.subplots(3, 3, figsize=(15, 15))\n",
    "\n",
    "# Data for each subplot\n",
    "data2 = [\n",
    "    (axs[0, 0], toxe_list, delay_list_toxe, 'toxe', leakage_list_toxe),\n",
    "    (axs[0, 1], toxm_list, delay_list_toxm, 'toxm', leakage_list_toxm),\n",
    "    (axs[0, 2], toxref_list, delay_list_toxref, 'toxref', leakage_list_toxref),\n",
    "    (axs[1, 0], toxp_par_list, delay_list_toxp, 'toxp', leakage_list_toxp),\n",
    "    (axs[1, 1], xj_list, delay_list_xj, 'xj', leakage_list_xj),\n",
    "    (axs[1, 2], ndep_list, delay_list_ndep, 'ndep', leakage_list_ndep),\n",
    "    (axs[2, 0], temp_list, delay_list_temp, 'TEMP', leakage_list_temp),\n",
    "    (axs[2, 1], temp_list, delay_list_pvdd, 'Pvdd', leakage_list_pvdd),\n",
    "    (axs[2, 2], cqload_list, delay_list_cqload, 'Cqload', None)\n",
    "]\n",
    "\n",
    "for ax, x, param1, xlabel, param2 in data2:\n",
    "    plot_dual_axis(ax, x, param1, xlabel, param2)\n",
    "\n",
    "plt.tight_layout()\n",
    "fig.suptitle('Variation of Delay and Leakage for AND for various technology parameters', fontsize=20,fontweight='bold',fontstyle='italic')\n",
    "plt.subplots_adjust(top=0.92)\n",
    "plt.savefig('Dual_axis_plots/16_nm_HP_AND2.png')\n",
    "plt.show()\n"
   ]
  },
  {
   "cell_type": "markdown",
   "metadata": {},
   "source": [
    "# 5. AND3"
   ]
  },
  {
   "cell_type": "markdown",
   "metadata": {},
   "source": [
    "Loading the File path"
   ]
  },
  {
   "cell_type": "code",
   "execution_count": null,
   "metadata": {},
   "outputs": [],
   "source": [
    "file_path = \"AND_3_leakage.csv\"  # Provide the path to your CSV file\n",
    "df_and3_leakage = pd.read_csv(file_path)"
   ]
  },
  {
   "cell_type": "code",
   "execution_count": null,
   "metadata": {},
   "outputs": [],
   "source": [
    "file_path = \"AND_3_delay.csv\"  # Provide the path to your CSV file\n",
    "df_and3_delay = pd.read_csv(file_path)"
   ]
  },
  {
   "cell_type": "markdown",
   "metadata": {},
   "source": [
    "## 5.1 Temparature"
   ]
  },
  {
   "cell_type": "code",
   "execution_count": null,
   "metadata": {},
   "outputs": [],
   "source": [
    "## Leakage List\n",
    "column_name = 'TEMP'  # Specify the column name\n",
    "target_column = 'Leakage_power'\n",
    "leakage_list_temp = nearest_values_average(df_and3_leakage, temp_list, column_name,target_column)\n",
    "print(leakage_list_temp)\n",
    "\n",
    "## Delay List\n",
    "target_column = 'delay_nodea'\n",
    "delay_list_temp = nearest_values_average(df_and3_delay, temp_list, column_name,target_column)\n",
    "print(delay_list_temp)"
   ]
  },
  {
   "cell_type": "markdown",
   "metadata": {},
   "source": [
    "## 5.2 Pvdd"
   ]
  },
  {
   "cell_type": "code",
   "execution_count": null,
   "metadata": {},
   "outputs": [],
   "source": [
    "## Leakage List\n",
    "column_name = 'pvdd'  # Specify the column name\n",
    "target_column = 'Leakage_power'\n",
    "leakage_list_pvdd = nearest_values_average(df_and3_leakage, pvdd_list, column_name,target_column)\n",
    "print(leakage_list_pvdd)\n",
    "\n",
    "## Delay List\n",
    "target_column = 'delay_nodea'\n",
    "delay_list_pvdd = nearest_values_average(df_and3_delay, pvdd_list, column_name,target_column)\n",
    "print(delay_list_pvdd)"
   ]
  },
  {
   "cell_type": "markdown",
   "metadata": {},
   "source": [
    "## 5.3 Cqload"
   ]
  },
  {
   "cell_type": "code",
   "execution_count": null,
   "metadata": {},
   "outputs": [],
   "source": [
    "## Leakage List\n",
    "column_name = 'Cqload'  # Specify the column name\n",
    "\n",
    "## Delay List\n",
    "target_column = 'delay_nodea'\n",
    "delay_list_cqload = nearest_values_average(df_and3_delay, cqload_list, column_name,target_column)\n",
    "print(delay_list_cqload)"
   ]
  },
  {
   "cell_type": "markdown",
   "metadata": {},
   "source": [
    "## 5.4 toxe"
   ]
  },
  {
   "cell_type": "code",
   "execution_count": null,
   "metadata": {},
   "outputs": [],
   "source": [
    "## Leakage List\n",
    "column_name = 'toxe_n'  # Specify the column name\n",
    "target_column = 'Leakage_power'\n",
    "leakage_list_toxe = nearest_values_average(df_and3_leakage, toxe_list, column_name,target_column)\n",
    "print(leakage_list_toxe)\n",
    "\n",
    "## Delay List\n",
    "target_column = 'delay_nodea'\n",
    "delay_list_toxe = nearest_values_average(df_and3_delay, pvdd_list, column_name,target_column)\n",
    "print(delay_list_toxe)"
   ]
  },
  {
   "cell_type": "markdown",
   "metadata": {},
   "source": [
    "## 5.5 toxm"
   ]
  },
  {
   "cell_type": "code",
   "execution_count": null,
   "metadata": {},
   "outputs": [],
   "source": [
    "## Leakage List\n",
    "column_name = 'toxm_n'  # Specify the column name\n",
    "target_column = 'Leakage_power'\n",
    "leakage_list_toxm = nearest_values_average(df_and3_leakage, toxm_list, column_name,target_column)\n",
    "print(leakage_list_toxm)\n",
    "\n",
    "## Delay List\n",
    "target_column = 'delay_nodea'\n",
    "delay_list_toxm = nearest_values_average(df_and3_delay, toxm_list, column_name,target_column)\n",
    "print(delay_list_toxm)"
   ]
  },
  {
   "cell_type": "markdown",
   "metadata": {},
   "source": [
    "## 5.6 toxref"
   ]
  },
  {
   "cell_type": "code",
   "execution_count": null,
   "metadata": {},
   "outputs": [],
   "source": [
    "## Leakage List\n",
    "column_name = 'toxref_n'  # Specify the column name\n",
    "target_column = 'Leakage_power'\n",
    "leakage_list_toxref = nearest_values_average(df_and3_leakage, toxref_list, column_name,target_column)\n",
    "print(leakage_list_toxref)\n",
    "\n",
    "## Delay List\n",
    "target_column = 'delay_nodea'\n",
    "delay_list_toxref = nearest_values_average(df_and3_delay, toxref_list, column_name,target_column)\n",
    "print(delay_list_toxref)"
   ]
  },
  {
   "cell_type": "markdown",
   "metadata": {},
   "source": [
    "## 5.7 toxp"
   ]
  },
  {
   "cell_type": "code",
   "execution_count": null,
   "metadata": {},
   "outputs": [],
   "source": [
    "## Leakage List\n",
    "column_name = 'toxp_n'  # Specify the column name\n",
    "target_column = 'Leakage_power'\n",
    "leakage_list_toxp = nearest_values_average(df_and3_leakage, toxp_par_list, column_name,target_column)\n",
    "print(leakage_list_toxp)\n",
    "\n",
    "## Delay List\n",
    "target_column = 'delay_nodea'\n",
    "delay_list_toxp = nearest_values_average(df_and3_delay, toxp_par_list, column_name,target_column)\n",
    "print(delay_list_toxp)"
   ]
  },
  {
   "cell_type": "markdown",
   "metadata": {},
   "source": [
    "## 5.8 xj"
   ]
  },
  {
   "cell_type": "code",
   "execution_count": null,
   "metadata": {},
   "outputs": [],
   "source": [
    "## Leakage List\n",
    "column_name = 'xj_n'  # Specify the column name\n",
    "target_column = 'Leakage_power'\n",
    "leakage_list_xj = nearest_values_average(df_and3_leakage, xj_list, column_name,target_column)\n",
    "print(leakage_list_xj)\n",
    "\n",
    "## Delay List\n",
    "target_column = 'delay_nodea'\n",
    "delay_list_xj = nearest_values_average(df_and3_delay, xj_list, column_name,target_column)\n",
    "print(delay_list_xj)"
   ]
  },
  {
   "cell_type": "markdown",
   "metadata": {},
   "source": [
    "## 5.9 ndep"
   ]
  },
  {
   "cell_type": "code",
   "execution_count": null,
   "metadata": {},
   "outputs": [],
   "source": [
    "## Leakage List\n",
    "column_name = 'ndep_n'  # Specify the column name\n",
    "target_column = 'Leakage_power'\n",
    "leakage_list_ndep = nearest_values_average(df_and3_leakage, ndep_list, column_name,target_column)\n",
    "print(leakage_list_ndep)\n",
    "\n",
    "## Delay List\n",
    "target_column = 'delay_nodea'\n",
    "delay_list_ndep = nearest_values_average(df_and3_delay, ndep_list, column_name,target_column)\n",
    "print(delay_list_ndep)"
   ]
  },
  {
   "cell_type": "markdown",
   "metadata": {},
   "source": [
    "## 5.10 Plotting all plots"
   ]
  },
  {
   "cell_type": "code",
   "execution_count": null,
   "metadata": {},
   "outputs": [],
   "source": [
    "# Create a 3x3 grid of subplots\n",
    "fig, axs = plt.subplots(3, 3, figsize=(15, 15))\n",
    "\n",
    "# Data for each subplot\n",
    "data3 = [\n",
    "    (axs[0, 0], toxe_list, delay_list_toxe, 'toxe', leakage_list_toxe),\n",
    "    (axs[0, 1], toxm_list, delay_list_toxm, 'toxm', leakage_list_toxm),\n",
    "    (axs[0, 2], toxref_list, delay_list_toxref, 'toxref', leakage_list_toxref),\n",
    "    (axs[1, 0], toxp_par_list, delay_list_toxp, 'toxp', leakage_list_toxp),\n",
    "    (axs[1, 1], xj_list, delay_list_xj, 'xj', leakage_list_xj),\n",
    "    (axs[1, 2], ndep_list, delay_list_ndep, 'ndep', leakage_list_ndep),\n",
    "    (axs[2, 0], temp_list, delay_list_temp, 'TEMP', leakage_list_temp),\n",
    "    (axs[2, 1], temp_list, delay_list_pvdd, 'Pvdd', leakage_list_pvdd),\n",
    "    (axs[2, 2], cqload_list, delay_list_cqload, 'Cqload', None)\n",
    "]\n",
    "\n",
    "for ax, x, param1, xlabel, param2 in data3:\n",
    "    plot_dual_axis(ax, x, param1, xlabel, param2)\n",
    "\n",
    "plt.tight_layout()\n",
    "fig.suptitle('Variation of Delay and Leakage for AND3 for various technology parameters', fontsize=20,fontweight='bold',fontstyle='italic')\n",
    "plt.subplots_adjust(top=0.92)\n",
    "plt.savefig('Dual_axis_plots/16_nm_HP_AND3.png')\n",
    "plt.show()\n"
   ]
  },
  {
   "cell_type": "markdown",
   "metadata": {},
   "source": [
    "# 6. OR2"
   ]
  },
  {
   "cell_type": "markdown",
   "metadata": {},
   "source": [
    "Loading the File path"
   ]
  },
  {
   "cell_type": "code",
   "execution_count": null,
   "metadata": {},
   "outputs": [],
   "source": [
    "file_path = \"OR_2_leakage.csv\"  # Provide the path to your CSV file\n",
    "df_or2_leakage = pd.read_csv(file_path)"
   ]
  },
  {
   "cell_type": "code",
   "execution_count": null,
   "metadata": {},
   "outputs": [],
   "source": [
    "file_path = \"AND_3_delay.csv\"  # Provide the path to your CSV file\n",
    "df_or2_delay = pd.read_csv(file_path)"
   ]
  },
  {
   "cell_type": "markdown",
   "metadata": {},
   "source": [
    "## 6.1 Temparature"
   ]
  },
  {
   "cell_type": "code",
   "execution_count": null,
   "metadata": {},
   "outputs": [],
   "source": [
    "## Leakage List\n",
    "column_name = 'TEMP'  # Specify the column name\n",
    "target_column = 'Leakage_power'\n",
    "leakage_list_temp = nearest_values_average(df_or2_leakage, temp_list, column_name,target_column)\n",
    "print(leakage_list_temp)\n",
    "\n",
    "## Delay List\n",
    "target_column = 'delay_nodea'\n",
    "delay_list_temp = nearest_values_average(df_or2_delay, temp_list, column_name,target_column)\n",
    "print(delay_list_temp)"
   ]
  },
  {
   "cell_type": "markdown",
   "metadata": {},
   "source": [
    "## 6.2 Pvdd"
   ]
  },
  {
   "cell_type": "code",
   "execution_count": null,
   "metadata": {},
   "outputs": [],
   "source": [
    "## Leakage List\n",
    "column_name = 'pvdd'  # Specify the column name\n",
    "target_column = 'Leakage_power'\n",
    "leakage_list_pvdd = nearest_values_average(df_or2_leakage, pvdd_list, column_name,target_column)\n",
    "print(leakage_list_pvdd)\n",
    "\n",
    "## Delay List\n",
    "target_column = 'delay_nodea'\n",
    "delay_list_pvdd = nearest_values_average(df_or2_delay, pvdd_list, column_name,target_column)\n",
    "print(delay_list_pvdd)"
   ]
  },
  {
   "cell_type": "markdown",
   "metadata": {},
   "source": [
    "## 6.3 Cqload"
   ]
  },
  {
   "cell_type": "code",
   "execution_count": null,
   "metadata": {},
   "outputs": [],
   "source": [
    "## Leakage List\n",
    "column_name = 'Cqload'  # Specify the column name\n",
    "\n",
    "## Delay List\n",
    "target_column = 'delay_nodea'\n",
    "delay_list_cqload = nearest_values_average(df_or2_delay, cqload_list, column_name,target_column)\n",
    "print(delay_list_cqload)"
   ]
  },
  {
   "cell_type": "markdown",
   "metadata": {},
   "source": [
    "## 6.4 toxe"
   ]
  },
  {
   "cell_type": "code",
   "execution_count": null,
   "metadata": {},
   "outputs": [],
   "source": [
    "## Leakage List\n",
    "column_name = 'toxe_n'  # Specify the column name\n",
    "target_column = 'Leakage_power'\n",
    "leakage_list_toxe = nearest_values_average(df_or2_leakage, toxe_list, column_name,target_column)\n",
    "print(leakage_list_toxe)\n",
    "\n",
    "## Delay List\n",
    "target_column = 'delay_nodea'\n",
    "delay_list_toxe = nearest_values_average(df_or2_delay, pvdd_list, column_name,target_column)\n",
    "print(delay_list_toxe)"
   ]
  },
  {
   "cell_type": "markdown",
   "metadata": {},
   "source": [
    "## 6.5 toxm"
   ]
  },
  {
   "cell_type": "code",
   "execution_count": null,
   "metadata": {},
   "outputs": [],
   "source": [
    "## Leakage List\n",
    "column_name = 'toxm_n'  # Specify the column name\n",
    "target_column = 'Leakage_power'\n",
    "leakage_list_toxm = nearest_values_average(df_or2_leakage, toxm_list, column_name,target_column)\n",
    "print(leakage_list_toxm)\n",
    "\n",
    "## Delay List\n",
    "target_column = 'delay_nodea'\n",
    "delay_list_toxm = nearest_values_average(df_or2_delay, toxm_list, column_name,target_column)\n",
    "print(delay_list_toxm)"
   ]
  },
  {
   "cell_type": "markdown",
   "metadata": {},
   "source": [
    "## 6.6 toxref"
   ]
  },
  {
   "cell_type": "code",
   "execution_count": null,
   "metadata": {},
   "outputs": [],
   "source": [
    "## Leakage List\n",
    "column_name = 'toxref_n'  # Specify the column name\n",
    "target_column = 'Leakage_power'\n",
    "leakage_list_toxref = nearest_values_average(df_or2_leakage, toxref_list, column_name,target_column)\n",
    "print(leakage_list_toxref)\n",
    "\n",
    "## Delay List\n",
    "target_column = 'delay_nodea'\n",
    "delay_list_toxref = nearest_values_average(df_or2_delay, toxref_list, column_name,target_column)\n",
    "print(delay_list_toxref)"
   ]
  },
  {
   "cell_type": "markdown",
   "metadata": {},
   "source": [
    "## 6.7 toxp"
   ]
  },
  {
   "cell_type": "code",
   "execution_count": null,
   "metadata": {},
   "outputs": [],
   "source": [
    "## Leakage List\n",
    "column_name = 'toxp_n'  # Specify the column name\n",
    "target_column = 'Leakage_power'\n",
    "leakage_list_toxp = nearest_values_average(df_or2_leakage, toxp_par_list, column_name,target_column)\n",
    "print(leakage_list_toxp)\n",
    "\n",
    "## Delay List\n",
    "target_column = 'delay_nodea'\n",
    "delay_list_toxp = nearest_values_average(df_or2_delay, toxp_par_list, column_name,target_column)\n",
    "print(delay_list_toxp)"
   ]
  },
  {
   "cell_type": "markdown",
   "metadata": {},
   "source": [
    "## 6.8 xj"
   ]
  },
  {
   "cell_type": "code",
   "execution_count": null,
   "metadata": {},
   "outputs": [],
   "source": [
    "## Leakage List\n",
    "column_name = 'xj_n'  # Specify the column name\n",
    "target_column = 'Leakage_power'\n",
    "leakage_list_xj = nearest_values_average(df_or2_leakage, xj_list, column_name,target_column)\n",
    "print(leakage_list_xj)\n",
    "\n",
    "## Delay List\n",
    "target_column = 'delay_nodea'\n",
    "delay_list_xj = nearest_values_average(df_or2_delay, xj_list, column_name,target_column)\n",
    "print(delay_list_xj)"
   ]
  },
  {
   "cell_type": "markdown",
   "metadata": {},
   "source": [
    "## 6.9 ndep"
   ]
  },
  {
   "cell_type": "code",
   "execution_count": null,
   "metadata": {},
   "outputs": [],
   "source": [
    "## Leakage List\n",
    "column_name = 'ndep_n'  # Specify the column name\n",
    "target_column = 'Leakage_power'\n",
    "leakage_list_ndep = nearest_values_average(df_or2_leakage, ndep_list, column_name,target_column)\n",
    "print(leakage_list_ndep)\n",
    "\n",
    "## Delay List\n",
    "target_column = 'delay_nodea'\n",
    "delay_list_ndep = nearest_values_average(df_or2_delay, ndep_list, column_name,target_column)\n",
    "print(delay_list_ndep)"
   ]
  },
  {
   "cell_type": "markdown",
   "metadata": {},
   "source": [
    "## 6.10 Plotting all plots"
   ]
  },
  {
   "cell_type": "code",
   "execution_count": null,
   "metadata": {},
   "outputs": [],
   "source": [
    "# Create a 3x3 grid of subplots\n",
    "fig, axs = plt.subplots(3, 3, figsize=(15, 15))\n",
    "\n",
    "# Data for each subplot\n",
    "data4 = [\n",
    "    (axs[0, 0], toxe_list, delay_list_toxe, 'toxe', leakage_list_toxe),\n",
    "    (axs[0, 1], toxm_list, delay_list_toxm, 'toxm', leakage_list_toxm),\n",
    "    (axs[0, 2], toxref_list, delay_list_toxref, 'toxref', leakage_list_toxref),\n",
    "    (axs[1, 0], toxp_par_list, delay_list_toxp, 'toxp', leakage_list_toxp),\n",
    "    (axs[1, 1], xj_list, delay_list_xj, 'xj', leakage_list_xj),\n",
    "    (axs[1, 2], ndep_list, delay_list_ndep, 'ndep', leakage_list_ndep),\n",
    "    (axs[2, 0], temp_list, delay_list_temp, 'TEMP', leakage_list_temp),\n",
    "    (axs[2, 1], temp_list, delay_list_pvdd, 'Pvdd', leakage_list_pvdd),\n",
    "    (axs[2, 2], cqload_list, delay_list_cqload, 'Cqload', None)\n",
    "]\n",
    "\n",
    "for ax, x, param1, xlabel, param2 in data4:\n",
    "    plot_dual_axis(ax, x, param1, xlabel, param2)\n",
    "\n",
    "plt.tight_layout()\n",
    "fig.suptitle('Variation of Delay and Leakage for OR2 for various technology parameters', fontsize=20,fontweight='bold',fontstyle='italic')\n",
    "plt.subplots_adjust(top=0.92)\n",
    "plt.savefig('Dual_axis_plots/16_nm_HP_OR2.png')\n",
    "plt.show()\n"
   ]
  },
  {
   "cell_type": "markdown",
   "metadata": {},
   "source": [
    "# 7. XOR"
   ]
  },
  {
   "cell_type": "markdown",
   "metadata": {},
   "source": [
    "Loading the File path"
   ]
  },
  {
   "cell_type": "code",
   "execution_count": null,
   "metadata": {},
   "outputs": [],
   "source": [
    "file_path = \"XOR_leakage.csv\"  # Provide the path to your CSV file\n",
    "df_xor_leakage = pd.read_csv(file_path)"
   ]
  },
  {
   "cell_type": "code",
   "execution_count": null,
   "metadata": {},
   "outputs": [],
   "source": [
    "file_path = \"XOR_delay.csv\"  # Provide the path to your CSV file\n",
    "df_xor_delay = pd.read_csv(file_path)"
   ]
  },
  {
   "cell_type": "markdown",
   "metadata": {},
   "source": [
    "## 7.1 Temparature"
   ]
  },
  {
   "cell_type": "code",
   "execution_count": null,
   "metadata": {},
   "outputs": [],
   "source": [
    "## Leakage List\n",
    "column_name = 'TEMP'  # Specify the column name\n",
    "target_column = 'Leakage_power'\n",
    "leakage_list_temp = nearest_values_average(df_xor_leakage, temp_list, column_name,target_column)\n",
    "print(leakage_list_temp)\n",
    "\n",
    "## Delay List\n",
    "target_column = 'delay_nodea'\n",
    "delay_list_temp = nearest_values_average(df_xor_delay, temp_list, column_name,target_column)\n",
    "print(delay_list_temp)"
   ]
  },
  {
   "cell_type": "markdown",
   "metadata": {},
   "source": [
    "## 7.2 Pvdd"
   ]
  },
  {
   "cell_type": "code",
   "execution_count": null,
   "metadata": {},
   "outputs": [],
   "source": [
    "## Leakage List\n",
    "column_name = 'pvdd'  # Specify the column name\n",
    "target_column = 'Leakage_power'\n",
    "leakage_list_pvdd = nearest_values_average(df_xor_leakage, pvdd_list, column_name,target_column)\n",
    "print(leakage_list_pvdd)\n",
    "\n",
    "## Delay List\n",
    "target_column = 'delay_nodea'\n",
    "delay_list_pvdd = nearest_values_average(df_xor_delay, pvdd_list, column_name,target_column)\n",
    "print(delay_list_pvdd)"
   ]
  },
  {
   "cell_type": "markdown",
   "metadata": {},
   "source": [
    "## 7.3 Cqload"
   ]
  },
  {
   "cell_type": "code",
   "execution_count": null,
   "metadata": {},
   "outputs": [],
   "source": [
    "## Leakage List\n",
    "column_name = 'Cqload'  # Specify the column name\n",
    "\n",
    "## Delay List\n",
    "target_column = 'delay_nodea'\n",
    "delay_list_cqload = nearest_values_average(df_xor_delay, cqload_list, column_name,target_column)\n",
    "print(delay_list_cqload)"
   ]
  },
  {
   "cell_type": "markdown",
   "metadata": {},
   "source": [
    "## 7.4 toxe"
   ]
  },
  {
   "cell_type": "code",
   "execution_count": null,
   "metadata": {},
   "outputs": [],
   "source": [
    "## Leakage List\n",
    "column_name = 'toxe_n'  # Specify the column name\n",
    "target_column = 'Leakage_power'\n",
    "leakage_list_toxe = nearest_values_average(df_xor_leakage, toxe_list, column_name,target_column)\n",
    "print(leakage_list_toxe)\n",
    "\n",
    "## Delay List\n",
    "target_column = 'delay_nodea'\n",
    "delay_list_toxe = nearest_values_average(df_xor_delay, pvdd_list, column_name,target_column)\n",
    "print(delay_list_toxe)"
   ]
  },
  {
   "cell_type": "markdown",
   "metadata": {},
   "source": [
    "## 7.5 toxm"
   ]
  },
  {
   "cell_type": "code",
   "execution_count": null,
   "metadata": {},
   "outputs": [],
   "source": [
    "## Leakage List\n",
    "column_name = 'toxm_n'  # Specify the column name\n",
    "target_column = 'Leakage_power'\n",
    "leakage_list_toxm = nearest_values_average(df_xor_leakage, toxm_list, column_name,target_column)\n",
    "print(leakage_list_toxm)\n",
    "\n",
    "## Delay List\n",
    "target_column = 'delay_nodea'\n",
    "delay_list_toxm = nearest_values_average(df_xor_delay, toxm_list, column_name,target_column)\n",
    "print(delay_list_toxm)"
   ]
  },
  {
   "cell_type": "markdown",
   "metadata": {},
   "source": [
    "## 7.6 toxref"
   ]
  },
  {
   "cell_type": "code",
   "execution_count": null,
   "metadata": {},
   "outputs": [],
   "source": [
    "## Leakage List\n",
    "column_name = 'toxref_n'  # Specify the column name\n",
    "target_column = 'Leakage_power'\n",
    "leakage_list_toxref = nearest_values_average(df_xor_leakage, toxref_list, column_name,target_column)\n",
    "print(leakage_list_toxref)\n",
    "\n",
    "## Delay List\n",
    "target_column = 'delay_nodea'\n",
    "delay_list_toxref = nearest_values_average(df_xor_delay, toxref_list, column_name,target_column)\n",
    "print(delay_list_toxref)"
   ]
  },
  {
   "cell_type": "markdown",
   "metadata": {},
   "source": [
    "## 7.7 toxp"
   ]
  },
  {
   "cell_type": "code",
   "execution_count": null,
   "metadata": {},
   "outputs": [],
   "source": [
    "## Leakage List\n",
    "column_name = 'toxp_n'  # Specify the column name\n",
    "target_column = 'Leakage_power'\n",
    "leakage_list_toxp = nearest_values_average(df_xor_leakage, toxp_par_list, column_name,target_column)\n",
    "print(leakage_list_toxp)\n",
    "\n",
    "## Delay List\n",
    "target_column = 'delay_nodea'\n",
    "delay_list_toxp = nearest_values_average(df_xor_delay, toxp_par_list, column_name,target_column)\n",
    "print(delay_list_toxp)"
   ]
  },
  {
   "cell_type": "markdown",
   "metadata": {},
   "source": [
    "## 7.8 xj"
   ]
  },
  {
   "cell_type": "code",
   "execution_count": null,
   "metadata": {},
   "outputs": [],
   "source": [
    "## Leakage List\n",
    "column_name = 'xj_n'  # Specify the column name\n",
    "target_column = 'Leakage_power'\n",
    "leakage_list_xj = nearest_values_average(df_xor_leakage, xj_list, column_name,target_column)\n",
    "print(leakage_list_xj)\n",
    "\n",
    "## Delay List\n",
    "target_column = 'delay_nodea'\n",
    "delay_list_xj = nearest_values_average(df_xor_delay, xj_list, column_name,target_column)\n",
    "print(delay_list_xj)"
   ]
  },
  {
   "cell_type": "markdown",
   "metadata": {},
   "source": [
    "## 7.9 ndep"
   ]
  },
  {
   "cell_type": "code",
   "execution_count": null,
   "metadata": {},
   "outputs": [],
   "source": [
    "## Leakage List\n",
    "column_name = 'ndep_n'  # Specify the column name\n",
    "target_column = 'Leakage_power'\n",
    "leakage_list_ndep = nearest_values_average(df_xor_leakage, ndep_list, column_name,target_column)\n",
    "print(leakage_list_ndep)\n",
    "\n",
    "## Delay List\n",
    "target_column = 'delay_nodea'\n",
    "delay_list_ndep = nearest_values_average(df_xor_delay, ndep_list, column_name,target_column)\n",
    "print(delay_list_ndep)"
   ]
  },
  {
   "cell_type": "markdown",
   "metadata": {},
   "source": [
    "## 7.10 Plotting all plots"
   ]
  },
  {
   "cell_type": "code",
   "execution_count": null,
   "metadata": {},
   "outputs": [],
   "source": [
    "# Create a 3x3 grid of subplots\n",
    "fig, axs = plt.subplots(3, 3, figsize=(15, 15))\n",
    "\n",
    "# Data for each subplot\n",
    "data5 = [\n",
    "    (axs[0, 0], toxe_list, delay_list_toxe, 'toxe', leakage_list_toxe),\n",
    "    (axs[0, 1], toxm_list, delay_list_toxm, 'toxm', leakage_list_toxm),\n",
    "    (axs[0, 2], toxref_list, delay_list_toxref, 'toxref', leakage_list_toxref),\n",
    "    (axs[1, 0], toxp_par_list, delay_list_toxp, 'toxp', leakage_list_toxp),\n",
    "    (axs[1, 1], xj_list, delay_list_xj, 'xj', leakage_list_xj),\n",
    "    (axs[1, 2], ndep_list, delay_list_ndep, 'ndep', leakage_list_ndep),\n",
    "    (axs[2, 0], temp_list, delay_list_temp, 'TEMP', leakage_list_temp),\n",
    "    (axs[2, 1], temp_list, delay_list_pvdd, 'Pvdd', leakage_list_pvdd),\n",
    "    (axs[2, 2], cqload_list, delay_list_cqload, 'Cqload', None)\n",
    "]\n",
    "\n",
    "for ax, x, param1, xlabel, param2 in data5:\n",
    "    plot_dual_axis(ax, x, param1, xlabel, param2)\n",
    "\n",
    "plt.tight_layout()\n",
    "fig.suptitle('Variation of Delay and Leakage for XOR for various technology parameters', fontsize=20,fontweight='bold',fontstyle='italic')\n",
    "plt.subplots_adjust(top=0.92)\n",
    "plt.savefig('Dual_axis_plots/16_nm_HP_XOR.png')\n",
    "plt.show()\n"
   ]
  }
 ],
 "metadata": {
  "kernelspec": {
   "display_name": "Python 3",
   "language": "python",
   "name": "python3"
  },
  "language_info": {
   "codemirror_mode": {
    "name": "ipython",
    "version": 3
   },
   "file_extension": ".py",
   "mimetype": "text/x-python",
   "name": "python",
   "nbconvert_exporter": "python",
   "pygments_lexer": "ipython3",
   "version": "3.11.3"
  }
 },
 "nbformat": 4,
 "nbformat_minor": 2
}
