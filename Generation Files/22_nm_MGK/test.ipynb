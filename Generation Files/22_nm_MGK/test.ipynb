{
 "cells": [
  {
   "cell_type": "code",
   "execution_count": 1,
   "metadata": {},
   "outputs": [],
   "source": [
    "import pandas as pd"
   ]
  },
  {
   "cell_type": "code",
   "execution_count": 2,
   "metadata": {},
   "outputs": [
    {
     "name": "stdout",
     "output_type": "stream",
     "text": [
      "Updated dataset saved to ./samples_22nm_MGK.csv.\n"
     ]
    }
   ],
   "source": [
    "\n",
    "# Hypothetical file path\n",
    "file_path = \"./samples_22nm_MGK.csv\"\n",
    "\n",
    "# Load the dataset\n",
    "data = pd.read_csv(file_path)\n",
    "\n",
    "# Check if the column \"cqload\" exists, and drop it if present\n",
    "if \"cqload\" in data.columns:\n",
    "    data = data.drop(columns=[\"cqload\"])\n",
    "else:\n",
    "    print(\"Column 'cqload' does not exist in the dataset.\")\n",
    "\n",
    "# Limit the dataset to the first 5000 rows\n",
    "data = data.head(5000)\n",
    "\n",
    "# Save the modified dataset back to the same file\n",
    "data.to_csv(file_path, index=False)\n",
    "\n",
    "print(f\"Updated dataset saved to {file_path}.\")\n"
   ]
  },
  {
   "cell_type": "code",
   "execution_count": 1,
   "metadata": {},
   "outputs": [
    {
     "name": "stdout",
     "output_type": "stream",
     "text": [
      "Column 'supply' has been replaced with random values.\n",
      "Updated dataset saved to samples_22nm_MGK.csv.\n"
     ]
    }
   ],
   "source": [
    "import pandas as pd\n",
    "import numpy as np\n",
    "\n",
    "# Hypothetical file path\n",
    "file_path = \"samples_22nm_MGK.csv\"\n",
    "\n",
    "# Load the dataset\n",
    "data = pd.read_csv(file_path)\n",
    "\n",
    "# Check if the column \"supply\" exists\n",
    "if \"supply\" in data.columns:\n",
    "    # Generate uniform random samples for the column\n",
    "    data[\"supply\"] = np.random.uniform(0.81, 0.99, size=len(data))\n",
    "    print(\"Column 'supply' has been replaced with random values.\")\n",
    "else:\n",
    "    print(\"Column 'supply' does not exist in the dataset.\")\n",
    "\n",
    "# Save the modified dataset back to the same file\n",
    "data.to_csv(file_path, index=False)\n",
    "\n",
    "print(f\"Updated dataset saved to {file_path}.\")\n"
   ]
  },
  {
   "cell_type": "code",
   "execution_count": 2,
   "metadata": {},
   "outputs": [
    {
     "name": "stdout",
     "output_type": "stream",
     "text": [
      "Column 'lmin' has been replaced with random values.\n",
      "Column 'wmin' has been replaced with random values.\n",
      "Updated dataset saved to samples_22nm_MGK.csv.\n"
     ]
    }
   ],
   "source": [
    "import pandas as pd\n",
    "import numpy as np\n",
    "\n",
    "# Hypothetical file path\n",
    "file_path = \"samples_22nm_MGK.csv\"\n",
    "\n",
    "# Load the dataset\n",
    "data = pd.read_csv(file_path)\n",
    "\n",
    "# Check and replace the \"lmin\" column\n",
    "if \"lmin\" in data.columns:\n",
    "    data[\"lmin\"] = np.random.uniform(22, 26, size=len(data))\n",
    "    print(\"Column 'lmin' has been replaced with random values.\")\n",
    "else:\n",
    "    print(\"Column 'lmin' does not exist in the dataset.\")\n",
    "\n",
    "# Check and replace the \"wmin\" column\n",
    "if \"wmin\" in data.columns:\n",
    "    data[\"wmin\"] = np.random.uniform(22, 440, size=len(data))\n",
    "    print(\"Column 'wmin' has been replaced with random values.\")\n",
    "else:\n",
    "    print(\"Column 'wmin' does not exist in the dataset.\")\n",
    "\n",
    "# Save the modified dataset back to the same file\n",
    "data.to_csv(file_path, index=False)\n",
    "\n",
    "print(f\"Updated dataset saved to {file_path}.\")\n"
   ]
  },
  {
   "cell_type": "code",
   "execution_count": null,
   "metadata": {},
   "outputs": [],
   "source": []
  }
 ],
 "metadata": {
  "kernelspec": {
   "display_name": "Python 3",
   "language": "python",
   "name": "python3"
  },
  "language_info": {
   "codemirror_mode": {
    "name": "ipython",
    "version": 3
   },
   "file_extension": ".py",
   "mimetype": "text/x-python",
   "name": "python",
   "nbconvert_exporter": "python",
   "pygments_lexer": "ipython3",
   "version": "3.10.8"
  }
 },
 "nbformat": 4,
 "nbformat_minor": 2
}
